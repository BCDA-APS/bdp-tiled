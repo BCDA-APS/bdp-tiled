{
 "cells": [
  {
   "attachments": {},
   "cell_type": "markdown",
   "metadata": {},
   "source": [
    "# Demo with `tiled.client` (Python) API\n",
    "\n",
    "Demonstrate, using the `tiled.client` Python API, how to select runs between a set of dates and then by plan name."
   ]
  },
  {
   "cell_type": "code",
   "execution_count": 1,
   "metadata": {},
   "outputs": [],
   "source": [
    "import datetime\n",
    "from tiled.client import from_uri\n",
    "from tiled.client.cache import Cache\n",
    "from tiled.utils import tree\n",
    "import tiled.queries"
   ]
  },
  {
   "cell_type": "code",
   "execution_count": 2,
   "metadata": {},
   "outputs": [],
   "source": [
    "tiled_server = \"localhost\"\n",
    "tiled_server_port = 8000"
   ]
  },
  {
   "cell_type": "code",
   "execution_count": 3,
   "metadata": {},
   "outputs": [
    {
     "name": "stdout",
     "output_type": "stream",
     "text": [
      "uri='http://localhost:8000'\n",
      "client=<Node {'training', 'class_2021_03', 'files'}>\n"
     ]
    }
   ],
   "source": [
    "# connect our client with the server\n",
    "uri = f\"http://{tiled_server}:{tiled_server_port}\"\n",
    "print(f\"{uri=}\")\n",
    "client = from_uri(uri, cache=Cache.in_memory(2e9))\n",
    "print(f\"{client=}\")"
   ]
  },
  {
   "cell_type": "code",
   "execution_count": 4,
   "metadata": {},
   "outputs": [
    {
     "name": "stdout",
     "output_type": "stream",
     "text": [
      "cat=<Node {'83cae163-e32b-4e62-887b-66f03f61ec33', ...} ~40 entries>\n"
     ]
    }
   ],
   "source": [
    "# use the class catalog\n",
    "cat = client[\"class_2021_03\"]\n",
    "print(f\"{cat=}\")"
   ]
  },
  {
   "cell_type": "code",
   "execution_count": 5,
   "metadata": {},
   "outputs": [],
   "source": [
    "# define some helper functions which make simplify the searches\n",
    "def iso2time(isotime):\n",
    "    return datetime.datetime.timestamp(datetime.datetime.fromisoformat(isotime))\n",
    "\n",
    "def QueryTimeSince(isotime):\n",
    "    return tiled.queries.Key(\"time\") >= iso2time(isotime)\n",
    "\n",
    "def QueryTimeUntil(isotime):\n",
    "    return tiled.queries.Key(\"time\") < iso2time(isotime)"
   ]
  },
  {
   "cell_type": "code",
   "execution_count": 6,
   "metadata": {},
   "outputs": [
    {
     "name": "stdout",
     "output_type": "stream",
     "text": [
      "cat=<Node {'d6e1bad1-92f6-4257-8d5e-53172cd9b784', ...} ~12 entries>\n"
     ]
    }
   ],
   "source": [
    "# Find all runs in the catalog between these two ISO8601 dates.\n",
    "start_time = \"2021-03-17 00:30\"\n",
    "end_time = \"2021-05-19 15:15\"\n",
    "cat = cat.search(QueryTimeSince(start_time)).search(QueryTimeUntil(end_time))\n",
    "print(f\"{cat=}\")"
   ]
  },
  {
   "cell_type": "code",
   "execution_count": 7,
   "metadata": {},
   "outputs": [
    {
     "name": "stdout",
     "output_type": "stream",
     "text": [
      "cat=<Node {'d6e1bad1-92f6-4257-8d5e-53172cd9b784', ...} ~6 entries>\n"
     ]
    }
   ],
   "source": [
    "# Find run(s) which match given metadata: given plan_name\n",
    "plan_name = \"rel_scan\"\n",
    "cat = cat.search(tiled.queries.Key(\"plan_name\") == plan_name)\n",
    "print(f\"{cat=}\")"
   ]
  },
  {
   "cell_type": "code",
   "execution_count": 8,
   "metadata": {},
   "outputs": [
    {
     "name": "stdout",
     "output_type": "stream",
     "text": [
      "last run: run=<Node {'baseline', 'primary'}>\n"
     ]
    }
   ],
   "source": [
    "# With last (latest) run:\n",
    "run = cat.values()[-1]\n",
    "print(f\"last run: {run=}\")"
   ]
  },
  {
   "cell_type": "code",
   "execution_count": 9,
   "metadata": {},
   "outputs": [
    {
     "name": "stdout",
     "output_type": "stream",
     "text": [
      "Run metadata: run.metadata=DictView({'start': {'uid': 'a4c77cc5-dd49-4fc2-90e6-e3cd92667037', 'time': 1621455296.577983, 'login_id': 'prjemian@zap', 'scan_id': 188, 'pid': 3712584, 'objective': 'Demonstrate UB matrix save & restore', 'notebook': 'UB_autosave', 'beamline_id': 'APS_Python_training_2021', 'versions': {'apstools': '1.5.0rc1', 'bluesky': '1.6.7', 'databroker': '1.2.2', 'epics': '3.4.3', 'h5py': '3.2.1', 'intake': '0.6.2', 'matplotlib': '3.3.4', 'numpy': '1.20.1', 'ophyd': '1.6.1', 'pyRestTable': '2020.0.3', 'spec2nexus': '2021.1.8'}, 'instrument_name': 'class_2021_03', 'proposal_id': 'training', 'plan_type': 'generator', 'plan_name': 'rel_scan', 'detectors': ['scaler1'], 'motors': ['zaxis_h'], 'num_points': 8, 'num_intervals': 7, 'plan_args': {'detectors': [\"ScalerCH(prefix='gp:scaler1', name='scaler1', read_attrs=['channels', 'channels.chan01', 'channels.chan01.s', 'channels.chan02', 'channels.chan02.s', 'channels.chan03', 'channels.chan03.s', 'channels.chan04', 'channels.chan04.s', 'time'], configuration_attrs=['channels', 'channels.chan01', 'channels.chan01.chname', 'channels.chan01.preset', 'channels.chan01.gate', 'channels.chan02', 'channels.chan02.chname', 'channels.chan02.preset', 'channels.chan02.gate', 'channels.chan03', 'channels.chan03.chname', 'channels.chan03.preset', 'channels.chan03.gate', 'channels.chan04', 'channels.chan04.chname', 'channels.chan04.preset', 'channels.chan04.gate', 'count_mode', 'delay', 'auto_count_delay', 'freq', 'preset_time', 'auto_count_time', 'egu'])\"], 'num': 8, 'args': [\"PseudoSingle(prefix='', name='zaxis_h', parent='zaxis', settle_time=0.0, timeout=None, egu='', limits=(0, 0), source='computed', read_attrs=['readback', 'setpoint'], configuration_attrs=[], idx=0)\", -0.1, 0.1], 'per_step': 'None'}, 'hints': {'dimensions': [[['zaxis_h'], 'primary']]}, 'plan_pattern': 'inner_product', 'plan_pattern_module': 'bluesky.plan_patterns', 'plan_pattern_args': {'num': 8, 'args': [\"PseudoSingle(prefix='', name='zaxis_h', parent='zaxis', settle_time=0.0, timeout=None, egu='', limits=(0, 0), source='computed', read_attrs=['readback', 'setpoint'], configuration_attrs=[], idx=0)\", -0.1, 0.1]}}, 'stop': {'run_start': 'a4c77cc5-dd49-4fc2-90e6-e3cd92667037', 'time': 1621455301.0508366, 'uid': '01e8f143-c177-462d-a4fd-f3753e9873b2', 'exit_status': 'success', 'reason': '', 'num_events': {'baseline': 2, 'primary': 8}}, 'summary': {'uid': 'a4c77cc5-dd49-4fc2-90e6-e3cd92667037', 'scan_id': 188, 'timestamp': 1621455296.577983, 'datetime': datetime.datetime(2021, 5, 19, 20, 14, 56, 577983, tzinfo=datetime.timezone.utc), 'plan_name': 'rel_scan', 'stream_names': ['baseline', 'primary'], 'duration': 4.472853660583496}})\n"
     ]
    }
   ],
   "source": [
    "# Get overall metadata from this run.\n",
    "print(f\"Run metadata: {run.metadata=}\")"
   ]
  },
  {
   "cell_type": "code",
   "execution_count": 10,
   "metadata": {},
   "outputs": [
    {
     "name": "stdout",
     "output_type": "stream",
     "text": [
      "streams: stream_names=['baseline', 'primary']\n"
     ]
    }
   ],
   "source": [
    "# What are the data streams in this run?\n",
    "stream_names = run.metadata[\"summary\"][\"stream_names\"]\n",
    "print(f\"streams: {stream_names=}\")"
   ]
  },
  {
   "cell_type": "code",
   "execution_count": 11,
   "metadata": {},
   "outputs": [
    {
     "name": "stdout",
     "output_type": "stream",
     "text": [
      "stream_data['data']=<DatasetClient {'time', 'timebase', 'I0', 'scint', 'diode', ...} ~8 entries>\n",
      "stream_data.metadata=DictView({'descriptors': [{'run_start': 'a4c77cc5-dd49-4fc2-90e6-e3cd92667037', 'time': 1621455297.2849786, 'data_keys': {'timebase': {'source': 'PV:gp:scaler1.S1', 'dtype': 'number', 'shape': [], 'units': '', 'lower_ctrl_limit': 0.0, 'upper_ctrl_limit': 0.0, 'precision': 0, 'object_name': 'scaler1'}, 'I0': {'source': 'PV:gp:scaler1.S2', 'dtype': 'number', 'shape': [], 'units': '', 'lower_ctrl_limit': 0.0, 'upper_ctrl_limit': 0.0, 'precision': 0, 'object_name': 'scaler1'}, 'scint': {'source': 'PV:gp:scaler1.S3', 'dtype': 'number', 'shape': [], 'units': '', 'lower_ctrl_limit': 0.0, 'upper_ctrl_limit': 0.0, 'precision': 0, 'object_name': 'scaler1'}, 'diode': {'source': 'PV:gp:scaler1.S4', 'dtype': 'number', 'shape': [], 'units': '', 'lower_ctrl_limit': 0.0, 'upper_ctrl_limit': 0.0, 'precision': 0, 'object_name': 'scaler1'}, 'scaler1_time': {'source': 'PV:gp:scaler1.T', 'dtype': 'number', 'shape': [], 'units': '', 'lower_ctrl_limit': 0.0, 'upper_ctrl_limit': 0.0, 'precision': 3, 'object_name': 'scaler1'}, 'zaxis_h': {'source': 'PY:zaxis_h.position', 'dtype': 'number', 'shape': [], 'upper_ctrl_limit': 0, 'lower_ctrl_limit': 0, 'units': '', 'object_name': 'zaxis_h'}, 'zaxis_h_setpoint': {'source': 'PY:zaxis_h.target', 'dtype': 'number', 'shape': [], 'upper_ctrl_limit': 0, 'lower_ctrl_limit': 0, 'units': '', 'object_name': 'zaxis_h'}}, 'uid': 'e0271b74-a709-4dd1-a2fe-0f6b18776505', 'configuration': {'scaler1': {'data': {'scaler1_channels_chan01_chname': 'timebase', 'scaler1_channels_chan01_preset': 3000000.0, 'scaler1_channels_chan01_gate': 'Y', 'scaler1_channels_chan02_chname': 'I0', 'scaler1_channels_chan02_preset': 0.0, 'scaler1_channels_chan02_gate': 'N', 'scaler1_channels_chan03_chname': 'scint', 'scaler1_channels_chan03_preset': 0.0, 'scaler1_channels_chan03_gate': 'N', 'scaler1_channels_chan04_chname': 'diode', 'scaler1_channels_chan04_preset': 0.0, 'scaler1_channels_chan04_gate': 'N', 'scaler1_count_mode': 'OneShot', 'scaler1_delay': 0.0, 'scaler1_auto_count_delay': 0.0, 'scaler1_freq': 10000000.0, 'scaler1_preset_time': 0.3, 'scaler1_auto_count_time': 1.0, 'scaler1_egu': ''}, 'timestamps': {'scaler1_channels_chan01_chname': 631152000.0, 'scaler1_channels_chan01_preset': 1621455230.965067, 'scaler1_channels_chan01_gate': 1621455230.965067, 'scaler1_channels_chan02_chname': 631152000.0, 'scaler1_channels_chan02_preset': 631152000.0, 'scaler1_channels_chan02_gate': 631152000.0, 'scaler1_channels_chan03_chname': 631152000.0, 'scaler1_channels_chan03_preset': 631152000.0, 'scaler1_channels_chan03_gate': 631152000.0, 'scaler1_channels_chan04_chname': 631152000.0, 'scaler1_channels_chan04_preset': 631152000.0, 'scaler1_channels_chan04_gate': 631152000.0, 'scaler1_count_mode': 631152000.0, 'scaler1_delay': 631152000.0, 'scaler1_auto_count_delay': 631152000.0, 'scaler1_freq': 631152000.0, 'scaler1_preset_time': 1621455230.965067, 'scaler1_auto_count_time': 631152000.0, 'scaler1_egu': 631152000.0}, 'data_keys': {'scaler1_channels_chan01_chname': {'source': 'PV:gp:scaler1.NM1', 'dtype': 'string', 'shape': [], 'units': None, 'lower_ctrl_limit': None, 'upper_ctrl_limit': None}, 'scaler1_channels_chan01_preset': {'source': 'PV:gp:scaler1.PR1', 'dtype': 'number', 'shape': [], 'units': '', 'lower_ctrl_limit': 0.0, 'upper_ctrl_limit': 0.0, 'precision': 0}, 'scaler1_channels_chan01_gate': {'source': 'PV:gp:scaler1.G1', 'dtype': 'string', 'shape': [], 'units': None, 'lower_ctrl_limit': None, 'upper_ctrl_limit': None, 'enum_strs': ['N', 'Y']}, 'scaler1_channels_chan02_chname': {'source': 'PV:gp:scaler1.NM2', 'dtype': 'string', 'shape': [], 'units': None, 'lower_ctrl_limit': None, 'upper_ctrl_limit': None}, 'scaler1_channels_chan02_preset': {'source': 'PV:gp:scaler1.PR2', 'dtype': 'number', 'shape': [], 'units': '', 'lower_ctrl_limit': 0.0, 'upper_ctrl_limit': 0.0, 'precision': 0}, 'scaler1_channels_chan02_gate': {'source': 'PV:gp:scaler1.G2', 'dtype': 'string', 'shape': [], 'units': None, 'lower_ctrl_limit': None, 'upper_ctrl_limit': None, 'enum_strs': ['N', 'Y']}, 'scaler1_channels_chan03_chname': {'source': 'PV:gp:scaler1.NM3', 'dtype': 'string', 'shape': [], 'units': None, 'lower_ctrl_limit': None, 'upper_ctrl_limit': None}, 'scaler1_channels_chan03_preset': {'source': 'PV:gp:scaler1.PR3', 'dtype': 'number', 'shape': [], 'units': '', 'lower_ctrl_limit': 0.0, 'upper_ctrl_limit': 0.0, 'precision': 0}, 'scaler1_channels_chan03_gate': {'source': 'PV:gp:scaler1.G3', 'dtype': 'string', 'shape': [], 'units': None, 'lower_ctrl_limit': None, 'upper_ctrl_limit': None, 'enum_strs': ['N', 'Y']}, 'scaler1_channels_chan04_chname': {'source': 'PV:gp:scaler1.NM4', 'dtype': 'string', 'shape': [], 'units': None, 'lower_ctrl_limit': None, 'upper_ctrl_limit': None}, 'scaler1_channels_chan04_preset': {'source': 'PV:gp:scaler1.PR4', 'dtype': 'number', 'shape': [], 'units': '', 'lower_ctrl_limit': 0.0, 'upper_ctrl_limit': 0.0, 'precision': 0}, 'scaler1_channels_chan04_gate': {'source': 'PV:gp:scaler1.G4', 'dtype': 'string', 'shape': [], 'units': None, 'lower_ctrl_limit': None, 'upper_ctrl_limit': None, 'enum_strs': ['N', 'Y']}, 'scaler1_count_mode': {'source': 'PV:gp:scaler1.CONT', 'dtype': 'string', 'shape': [], 'units': None, 'lower_ctrl_limit': None, 'upper_ctrl_limit': None, 'enum_strs': ['OneShot', 'AutoCount']}, 'scaler1_delay': {'source': 'PV:gp:scaler1.DLY', 'dtype': 'number', 'shape': [], 'units': '', 'lower_ctrl_limit': 0.0, 'upper_ctrl_limit': 0.0, 'precision': 3}, 'scaler1_auto_count_delay': {'source': 'PV:gp:scaler1.DLY1', 'dtype': 'number', 'shape': [], 'units': '', 'lower_ctrl_limit': 0.0, 'upper_ctrl_limit': 0.0, 'precision': 3}, 'scaler1_freq': {'source': 'PV:gp:scaler1.FREQ', 'dtype': 'number', 'shape': [], 'units': '', 'lower_ctrl_limit': 0.0, 'upper_ctrl_limit': 0.0, 'precision': 3}, 'scaler1_preset_time': {'source': 'PV:gp:scaler1.TP', 'dtype': 'number', 'shape': [], 'units': '', 'lower_ctrl_limit': 0.0, 'upper_ctrl_limit': 0.0, 'precision': 3}, 'scaler1_auto_count_time': {'source': 'PV:gp:scaler1.TP1', 'dtype': 'number', 'shape': [], 'units': '', 'lower_ctrl_limit': 0.0, 'upper_ctrl_limit': 0.0, 'precision': 3}, 'scaler1_egu': {'source': 'PV:gp:scaler1.EGU', 'dtype': 'string', 'shape': [], 'units': None, 'lower_ctrl_limit': None, 'upper_ctrl_limit': None}}}, 'zaxis_h': {'data': {}, 'timestamps': {}, 'data_keys': {}}}, 'name': 'primary', 'hints': {'scaler1': {'fields': ['timebase', 'I0', 'scint', 'diode']}, 'zaxis_h': {'fields': ['zaxis_h']}}, 'object_keys': {'scaler1': ['timebase', 'I0', 'scint', 'diode', 'scaler1_time'], 'zaxis_h': ['zaxis_h', 'zaxis_h_setpoint']}}], 'stream_name': 'primary'})\n"
     ]
    }
   ],
   "source": [
    "# Get the data from the data stream named primary (the canonical main data).\n",
    "if \"primary\" in stream_names:\n",
    "    stream_data = run[\"primary\"]\n",
    "    print(f\"{stream_data['data']=}\")\n",
    "    # What is the metadata for this stream?\n",
    "    print(f\"{stream_data.metadata=}\")"
   ]
  },
  {
   "attachments": {},
   "cell_type": "markdown",
   "metadata": {},
   "source": [
    "----\n",
    "\n",
    "Make a single function that searches by date range and metadata keys."
   ]
  },
  {
   "cell_type": "code",
   "execution_count": 12,
   "metadata": {},
   "outputs": [],
   "source": [
    "def get_runs(cat, since=None, until=None, **keys):\n",
    "    \"\"\"\n",
    "    Return a new catalog, filtered by search terms.\n",
    "    \n",
    "    Runs will be selected with start time `>=since` and `< until`.\n",
    "    If either is `None`, then the corresponding filter will not be\n",
    "    applied.\n",
    "    \n",
    "    Parameters\n",
    "    \n",
    "    `cat` obj :\n",
    "        This is the catalog to be searched.\n",
    "        `Node` object returned by tiled.client.\n",
    "    `since` str :\n",
    "        Earliest start date (& time), in ISO8601 format.\n",
    "    `until` str :\n",
    "        Latest start date (& time), in ISO8601 format.\n",
    "    `keys` dict :\n",
    "        Dictionary of metadata keys and values to be matched.\n",
    "    \"\"\"\n",
    "    if since is not None:\n",
    "        cat = cat.search(QueryTimeSince(since))\n",
    "    if until is not None:\n",
    "        cat = cat.search(QueryTimeUntil(until))\n",
    "    \n",
    "    for k, v in keys.items():\n",
    "        cat = cat.search(tiled.queries.Key(k) == v)\n",
    "    return cat"
   ]
  },
  {
   "cell_type": "code",
   "execution_count": 13,
   "metadata": {},
   "outputs": [
    {
     "data": {
      "text/plain": [
       "<Node {'d6e1bad1-92f6-4257-8d5e-53172cd9b784', ...} ~16 entries>"
      ]
     },
     "execution_count": 13,
     "metadata": {},
     "output_type": "execute_result"
    }
   ],
   "source": [
    "get_runs(client[\"class_2021_03\"], since=\"2021-03-17 00:30\")"
   ]
  },
  {
   "cell_type": "code",
   "execution_count": 14,
   "metadata": {},
   "outputs": [
    {
     "data": {
      "text/plain": [
       "<Node {'83cae163-e32b-4e62-887b-66f03f61ec33', ...} ~36 entries>"
      ]
     },
     "execution_count": 14,
     "metadata": {},
     "output_type": "execute_result"
    }
   ],
   "source": [
    "get_runs(client[\"class_2021_03\"], until=\"2021-05-19 15:15\")"
   ]
  },
  {
   "cell_type": "code",
   "execution_count": 15,
   "metadata": {},
   "outputs": [
    {
     "data": {
      "text/plain": [
       "<Node {'d6e1bad1-92f6-4257-8d5e-53172cd9b784', ...} ~12 entries>"
      ]
     },
     "execution_count": 15,
     "metadata": {},
     "output_type": "execute_result"
    }
   ],
   "source": [
    "get_runs(client[\"class_2021_03\"], since=\"2021-03-17 00:30\", until=\"2021-05-19 15:15\")"
   ]
  },
  {
   "cell_type": "code",
   "execution_count": 16,
   "metadata": {},
   "outputs": [
    {
     "data": {
      "text/plain": [
       "<Node {'d6e1bad1-92f6-4257-8d5e-53172cd9b784', ...} ~6 entries>"
      ]
     },
     "execution_count": 16,
     "metadata": {},
     "output_type": "execute_result"
    }
   ],
   "source": [
    "get_runs(client[\"class_2021_03\"], since=\"2021-03-17 00:30\", until=\"2021-05-19 15:15\", plan_name=\"rel_scan\")"
   ]
  },
  {
   "attachments": {},
   "cell_type": "markdown",
   "metadata": {},
   "source": [
    "Compare this last search with the results above.  Both times, 6 entries were found."
   ]
  },
  {
   "cell_type": "code",
   "execution_count": 17,
   "metadata": {},
   "outputs": [
    {
     "data": {
      "text/plain": [
       "<Node {'a4c77cc5-dd49-4fc2-90e6-e3cd92667037'}>"
      ]
     },
     "execution_count": 17,
     "metadata": {},
     "output_type": "execute_result"
    }
   ],
   "source": [
    "# One last search, for a specific `scan_id`:\n",
    "get_runs(client[\"class_2021_03\"], scan_id=188)"
   ]
  }
 ],
 "metadata": {
  "kernelspec": {
   "display_name": "bluesky_2023_2",
   "language": "python",
   "name": "python3"
  },
  "language_info": {
   "codemirror_mode": {
    "name": "ipython",
    "version": 3
   },
   "file_extension": ".py",
   "mimetype": "text/x-python",
   "name": "python",
   "nbconvert_exporter": "python",
   "pygments_lexer": "ipython3",
   "version": "3.10.4"
  },
  "orig_nbformat": 4
 },
 "nbformat": 4,
 "nbformat_minor": 2
}
