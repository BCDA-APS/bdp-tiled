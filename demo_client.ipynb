{
 "metadata": {
  "language_info": {
   "codemirror_mode": {
    "name": "ipython",
    "version": 3
   },
   "file_extension": ".py",
   "mimetype": "text/x-python",
   "name": "python",
   "nbconvert_exporter": "python",
   "pygments_lexer": "ipython3",
   "version": "3.10.8-final"
  },
  "orig_nbformat": 2,
  "kernelspec": {
   "name": "python3",
   "display_name": "Python 3.10.8 64-bit",
   "metadata": {
    "interpreter": {
     "hash": "74b2908bedf7effbe5863ccf5f6dcaf7aee42857b42ad77a822704158fd125e5"
    }
   }
  }
 },
 "nbformat": 4,
 "nbformat_minor": 2,
 "cells": [
  {
   "source": [
    "# Tiled Python Client Demonstration\n",
    "\n",
    "Demonstrate a Python client accessing a tiled data server (running on `localhost`).  The server provides two databroker catalogs (`bdp2022` and `20idb_usaxs`).\n",
    "\n",
    "Show two types of Python client:\n",
    "\n",
    "- The `requests` package from the Python Standard Library.\n",
    "- The `tiled` package from the Bluesky Framework.\n",
    "\n",
    "For each type of client, show some specific queries and responses.\n",
    "\n",
    "* [x] Find all runs in a catalog between these two ISO8601 dates.\n",
    "* [x] Find run(s) which match given metadata.\n",
    "* [x] Get overall metadata from given run.\n",
    "* [x] What are the data streams in this run?\n",
    "* [x] What is the metadata for this stream?\n",
    "* [x] Get the data from the data stream named primary (the canonical main data)."
   ],
   "cell_type": "markdown",
   "metadata": {}
  },
  {
   "source": [
    "## Client using `requests` package"
   ],
   "cell_type": "markdown",
   "metadata": {}
  },
  {
   "source": [
    "Using the `requests` package, search the tiled server's  API using the `http://` interface by assembling a URI.  The tiled server will respond and we'll return the response as JSON.  We'll let Python handle report any Exceptions that might occur."
   ],
   "cell_type": "markdown",
   "metadata": {}
  },
  {
   "cell_type": "code",
   "execution_count": 1,
   "metadata": {},
   "outputs": [],
   "source": [
    "import requests\n",
    "\n",
    "def requests_tiled(server, catalog, api=\"/api/v1/node/search\", suffix=\"\", port=8000):\n",
    "    return requests.get(f\"http://{server}:{port}{api}/{catalog}{suffix}\").json()"
   ]
  },
  {
   "source": [
    "As a convenience, make a function that converts a string representation of the date and time in ISO-8601 format into the Linux EPOCH floating-point representation needed for tiled's API."
   ],
   "cell_type": "markdown",
   "metadata": {}
  },
  {
   "cell_type": "code",
   "execution_count": 2,
   "metadata": {},
   "outputs": [],
   "source": [
    "import datetime\n",
    "\n",
    "def iso_to_ts(isotime):\n",
    "    return datetime.datetime.fromisoformat(isotime).timestamp()"
   ]
  },
  {
   "source": [
    "We'll search the BDP project's databroker catalog, known to the tiled server (running on workstation `localhost`) by the text name `bdp2022`."
   ],
   "cell_type": "markdown",
   "metadata": {}
  },
  {
   "cell_type": "code",
   "execution_count": 3,
   "metadata": {},
   "outputs": [],
   "source": [
    "server = \"localhost\"\n",
    "port = 8000\n",
    "catalog = \"bdp2022\""
   ]
  },
  {
   "source": [
    "### Find runs within range of dates\n",
    "\n",
    "Define the ends of the time span for the search query:"
   ],
   "cell_type": "markdown",
   "metadata": {}
  },
  {
   "cell_type": "code",
   "execution_count": 4,
   "metadata": {},
   "outputs": [],
   "source": [
    "# Find all runs in a catalog between these two ISO8601 dates.\n",
    "start_time = \"2022-05-01\"\n",
    "end_time = \"2022-11-01\"\n",
    "tz = \"US/Central\""
   ]
  },
  {
   "source": [
    "Using the `requests` package, ask the tiled server for all runs in the catalog that match the time range.\n",
    "\n",
    "Here, we build up the URI suffix in parts to expose how the search query is constructed.  The response is a Python dictionary.  We won't print the entire dictionary here since it likely contains a lot of information, perhaps too much to show in full."
   ],
   "cell_type": "markdown",
   "metadata": {}
  },
  {
   "cell_type": "code",
   "execution_count": 21,
   "metadata": {},
   "outputs": [],
   "source": [
    "r = requests.get(\n",
    "    (\n",
    "        f\"http://{server}:{port}\"\n",
    "        \"/api/v1/node/search\"\n",
    "        f\"/{catalog}\"\n",
    "        \"?page[limit]=0\"  # 0: all matching\n",
    "        f\"&filter[time_range][condition][since]={iso_to_ts(start_time)}\"\n",
    "        f\"&filter[time_range][condition][until]={iso_to_ts(end_time)}\"\n",
    "        f\"&filter[time_range][condition][timezone]={tz}\"\n",
    "        \"&sort=time\"\n",
    "    )\n",
    ").json()"
   ]
  },
  {
   "source": [
    "Summarize the results (in object `r`):"
   ],
   "cell_type": "markdown",
   "metadata": {}
  },
  {
   "cell_type": "code",
   "execution_count": 6,
   "metadata": {},
   "outputs": [
    {
     "output_type": "stream",
     "name": "stdout",
     "text": [
      "Search of catalog='bdp2022' has 397 runs.\nFirst run: started='2022-05-03T08:37:21.510276' scan_id=1596 plan_name='take_image'\nLast  run: started='2022-09-08T13:54:25.178280' scan_id=1960 plan_name='push_images'\n"
     ]
    }
   ],
   "source": [
    "print(f'Search of {catalog=} has {len(r[\"data\"])} runs.')\n",
    "xref = dict(First=0, Last=-1)\n",
    "for k, v in dict(First=0, Last=-1).items():\n",
    "    md = r[\"data\"][v][\"attributes\"][\"metadata\"]\n",
    "    # md keys: start  stop  summary\n",
    "    # summary key is composed by tiled server\n",
    "    plan_name = md[\"summary\"][\"plan_name\"]\n",
    "    scan_id = md[\"summary\"][\"scan_id\"]\n",
    "    started = md[\"summary\"][\"datetime\"]\n",
    "    print(f\"{k:5s} run: {started=} {scan_id=} {plan_name=}\")"
   ]
  },
  {
   "source": [
    "### Find runs matching a given plan name\n",
    "\n",
    "Find run(s) which match some given metadata.  In this search, let's find all the runs that match a given `plan_name`.  Let's use the `take_image` plan from the previous results."
   ],
   "cell_type": "markdown",
   "metadata": {}
  },
  {
   "cell_type": "code",
   "execution_count": 22,
   "metadata": {},
   "outputs": [
    {
     "output_type": "stream",
     "name": "stdout",
     "text": [
      "Search for plan_name='take_image'\n"
     ]
    }
   ],
   "source": [
    "plan_name = \"take_image\"\n",
    "print(f\"Search for {plan_name=}\")\n",
    "\n",
    "r = requests.get(\n",
    "    (\n",
    "        f\"http://{server}:{port}\"\n",
    "        \"/api/v1/node/search\"\n",
    "        f\"/{catalog}\"\n",
    "        \"?page[limit]=0\"  # 0: all matching\n",
    "        \"&filter[eq][condition][key]=plan_name\"\n",
    "        f'&filter[eq][condition][value]=\"{plan_name}\"'\n",
    "        \"&sort=time\"\n",
    "    )\n",
    ").json()"
   ]
  },
  {
   "cell_type": "code",
   "execution_count": 23,
   "metadata": {},
   "outputs": [
    {
     "output_type": "stream",
     "name": "stdout",
     "text": [
      "Search of catalog='bdp2022' has 1029 runs.\nFirst run: started='2022-03-22T16:48:41.130881' scan_id=1 plan_name='take_image'\nLast  run: started='2022-08-30T15:06:37.662096' scan_id=1959 plan_name='take_image'\n"
     ]
    }
   ],
   "source": [
    "print(f'Search of {catalog=} has {len(r[\"data\"])} runs.')\n",
    "xref = dict(First=0, Last=-1)\n",
    "for k, v in dict(First=0, Last=-1).items():\n",
    "    md = r[\"data\"][v][\"attributes\"][\"metadata\"]\n",
    "    # md keys: start  stop  summary\n",
    "    # summary key is composed by tiled server\n",
    "    plan_name = md[\"summary\"][\"plan_name\"]\n",
    "    scan_id = md[\"summary\"][\"scan_id\"]\n",
    "    started = md[\"summary\"][\"datetime\"]\n",
    "    print(f\"{k:5s} run: {started=} {scan_id=} {plan_name=}\")"
   ]
  },
  {
   "source": [
    "### Show a run's metadata\n",
    "\n",
    "Let's show the various metadata available from a Bluesky *run*.  We'll use the last run from the previous search."
   ],
   "cell_type": "markdown",
   "metadata": {}
  },
  {
   "cell_type": "code",
   "execution_count": 9,
   "metadata": {},
   "outputs": [],
   "source": [
    "run = r[\"data\"][-1]  # most recent run from previous results"
   ]
  },
  {
   "source": [
    "The `run` object is a dictionary.  The interesting keys are:\n",
    "\n",
    "key | content\n",
    ":--- | :---\n",
    "`id` | `uid` universal identifier of this `run` (used by the database)\n",
    "`attributes` | contents of this `run`\n",
    "\n",
    "The `attributes` contents are a dictionary with these interesting keys (there are other keys, as well):\n",
    "\n",
    "key | content\n",
    ":--- | :---\n",
    "`metadata` | metadata dictionary of this `run`\n",
    "\n",
    "The `metadata` dictionary has these keys:\n",
    "\n",
    "key | content\n",
    ":--- | :---\n",
    "`start` | Metadata created as the run started (includes user-supplied, scan-specific, facility-specific, and bluesky metadata).  The `start` dictionary keys will vary between runs and catalogs.  Only a few are expected, including: `uid`, `time`, & `versions`.\n",
    "`stop` | Metadata about how the run ended (exit status and reason if problem, stream names, end time stamp)\n",
    "`summary` | tiled server provides this additional high-level summary with ISO8601 start date and run duration\n",
    "\n",
    "Note: the run's data streams are obtained by a different query, using the run's `uid`.  Keep track of the `uid` for that reason.\n",
    "\n",
    "To show the structure of this dictionary, we just access Python to show the object's value."
   ],
   "cell_type": "markdown",
   "metadata": {}
  },
  {
   "cell_type": "code",
   "execution_count": 10,
   "metadata": {},
   "outputs": [
    {
     "output_type": "execute_result",
     "data": {
      "text/plain": [
       "{'start': {'uid': 'a4edf4b3-8a12-4724-b817-fd45958488da',\n",
       "  'time': 1661889997.662096,\n",
       "  'versions': {'apstools': '1.6.2',\n",
       "   'bluesky': '1.8.3',\n",
       "   'bluesky_queueserver': '0.0.15',\n",
       "   'databroker': '1.2.5',\n",
       "   'epics': '3.5.0',\n",
       "   'h5py': '3.7.0',\n",
       "   'matplotlib': '3.5.2',\n",
       "   'numpy': '1.20.3',\n",
       "   'ophyd': '1.6.4',\n",
       "   'pyRestTable': '2020.0.3',\n",
       "   'spec2nexus': '2021.2.1'},\n",
       "  'databroker_catalog': 'bdp2022',\n",
       "  'login_id': 'bdp@terrier.xray.aps.anl.gov',\n",
       "  'beamline_id': 'BDP',\n",
       "  'instrument_name': 'APS-U Beamline Data Pipelines project in 2022',\n",
       "  'proposal_id': 'bdp2022',\n",
       "  'milestone': 'BDP M4 demo',\n",
       "  'pid': 22441,\n",
       "  'scan_id': 1959,\n",
       "  'sample': 'simulated_sample_102_66',\n",
       "  'game_key': 'fine image',\n",
       "  'plan_type': 'generator',\n",
       "  'plan_name': 'take_image',\n",
       "  'detectors': ['adsimdet'],\n",
       "  'num_points': 1,\n",
       "  'num_intervals': 0,\n",
       "  'plan_args': {'detectors': [\"MySimDetector(prefix='bdpSimExample:', name='adsimdet', read_attrs=['hdf1', 'pva'], configuration_attrs=['cam', 'cam.acquire_period', 'cam.acquire_time', 'cam.image_mode', 'cam.manufacturer', 'cam.model', 'cam.num_exposures', 'cam.num_images', 'cam.trigger_mode', 'hdf1', 'pva'])\"],\n",
       "   'num': 1},\n",
       "  'hints': {'dimensions': [[['time'], 'primary']]},\n",
       "  'incident_beam': 195.3764808605135,\n",
       "  'incident_beam_units': 'simulation',\n",
       "  'coarse_x': 0.0,\n",
       "  'coarse_y': 0.0,\n",
       "  'coarse_x_units': 'degrees',\n",
       "  'coarse_y_units': 'degrees',\n",
       "  'fine_x': -171.24069174885585,\n",
       "  'fine_y': 248.7569795618142,\n",
       "  'acquire_time': 0.25,\n",
       "  'acquire_period': 0.251,\n",
       "  'frames_per_image': 1,\n",
       "  'HDF5_compression': 'zlib',\n",
       "  'shutter': 'open',\n",
       "  'bdp_demo': 'M4'},\n",
       " 'stop': {'run_start': 'a4edf4b3-8a12-4724-b817-fd45958488da',\n",
       "  'time': 1661889999.67191,\n",
       "  'uid': '0cb0e643-877f-41b3-96b2-7adf75bef657',\n",
       "  'exit_status': 'success',\n",
       "  'reason': '',\n",
       "  'num_events': {'primary': 1}},\n",
       " 'summary': {'uid': 'a4edf4b3-8a12-4724-b817-fd45958488da',\n",
       "  'scan_id': 1959,\n",
       "  'timestamp': 1661889997.662096,\n",
       "  'datetime': '2022-08-30T15:06:37.662096',\n",
       "  'plan_name': 'take_image',\n",
       "  'stream_names': ['primary'],\n",
       "  'duration': 2.0098140239715576}}"
      ]
     },
     "metadata": {},
     "execution_count": 10
    }
   ],
   "source": [
    "run[\"attributes\"][\"metadata\"]"
   ]
  },
  {
   "source": [
    "### Search for runs containing given text.\n",
    "\n",
    "It is possible to search a catalog for runs containing given text.  Here is one example searching for `M9` (upper or lower case):"
   ],
   "cell_type": "markdown",
   "metadata": {}
  },
  {
   "cell_type": "code",
   "execution_count": 11,
   "metadata": {},
   "outputs": [],
   "source": [
    "search_text = \"M9\"\n",
    "case_sensitive = True\n",
    "r = requests.get(\n",
    "    (\n",
    "        f\"http://{server}:{port}\"\n",
    "        \"/api/v1/node/search\"\n",
    "        f\"/{catalog}\"\n",
    "        \"?page[limit]=0\"  # 0: all matching\n",
    "        f\"&filter[fulltext][condition][text]={search_text}\"\n",
    "        f\"&filter[fulltext][condition][case_sensitive]={str(case_sensitive).lower()}\"\n",
    "        \"&sort=time\"\n",
    "    )\n",
    ").json()"
   ]
  },
  {
   "cell_type": "code",
   "execution_count": 12,
   "metadata": {},
   "outputs": [
    {
     "output_type": "stream",
     "name": "stdout",
     "text": [
      "Search of catalog='bdp2022' has 75 runs which contain \"M9\".\nFirst run: started='2022-11-11T01:34:27.938719' scan_id=1961 plan_name='m9_push_images'\nLast  run: started='2022-11-23T11:17:32.495794' scan_id=2035 plan_name='m9_push_images'\n"
     ]
    }
   ],
   "source": [
    "print(f'Search of {catalog=} has {len(r[\"data\"])} runs which contain \"{search_text}\".')\n",
    "xref = dict(First=0, Last=-1)\n",
    "for k, v in dict(First=0, Last=-1).items():\n",
    "    md = r[\"data\"][v][\"attributes\"][\"metadata\"]\n",
    "    # md keys: start  stop  summary\n",
    "    # summary key is composed by tiled server\n",
    "    plan_name = md[\"summary\"][\"plan_name\"]\n",
    "    scan_id = md[\"summary\"][\"scan_id\"]\n",
    "    started = md[\"summary\"][\"datetime\"]\n",
    "    print(f\"{k:5s} run: {started=} {scan_id=} {plan_name=}\")"
   ]
  },
  {
   "source": [
    "### What data streams are available with this run?\n",
    "\n",
    "Use the last `take_image` run.  The stream names are in the `stop` metadata, where the number of data events is shown for each stream."
   ],
   "cell_type": "markdown",
   "metadata": {}
  },
  {
   "cell_type": "code",
   "execution_count": 20,
   "metadata": {},
   "outputs": [
    {
     "output_type": "stream",
     "name": "stdout",
     "text": [
      "Run uid='a4edf4b3-8a12-4724-b817-fd45958488da' has streams=['primary']\n"
     ]
    }
   ],
   "source": [
    "r = requests.get(\n",
    "    (\n",
    "        f\"http://{server}:{port}\"\n",
    "        \"/api/v1/node/search\"\n",
    "        f\"/{catalog}\"\n",
    "        \"?page[limit]=0\"  # 0: all matching\n",
    "        \"&filter[eq][condition][key]=plan_name\"\n",
    "        '&filter[eq][condition][value]=\"take_image\"'\n",
    "        \"&sort=time\"\n",
    "    )\n",
    ").json()\n",
    "stop_md = r[\"data\"][-1][\"attributes\"][\"metadata\"][\"stop\"]\n",
    "streams = list(stop_md[\"num_events\"].keys())\n",
    "uid = stop_md[\"run_start\"]\n",
    "print(f'Run {uid=} has {streams=}')"
   ]
  },
  {
   "source": [
    "### What is the metadata for the `primary` stream of this run?"
   ],
   "cell_type": "markdown",
   "metadata": {}
  },
  {
   "cell_type": "code",
   "execution_count": 14,
   "metadata": {},
   "outputs": [
    {
     "output_type": "stream",
     "name": "stdout",
     "text": [
      "catalog='bdp2022' uid='a4edf4b3-8a12-4724-b817-fd45958488da' metadata for stream_name='primary':\n"
     ]
    },
    {
     "output_type": "execute_result",
     "data": {
      "text/plain": [
       "{'descriptors': [{'run_start': 'a4edf4b3-8a12-4724-b817-fd45958488da',\n",
       "   'time': 1661889999.655602,\n",
       "   'data_keys': {'adsimdet_image': {'shape': [1, 1024, 1024],\n",
       "     'source': 'PV:bdpSimExample:',\n",
       "     'dtype': 'array',\n",
       "     'external': 'FILESTORE:',\n",
       "     'object_name': 'adsimdet'}},\n",
       "   'uid': 'f78f5d29-36dc-49e2-9e9a-8eee6120873b',\n",
       "   'configuration': {'adsimdet': {'data': {'adsimdet_cam_acquire_period': 0.251,\n",
       "      'adsimdet_cam_acquire_time': 0.25,\n",
       "      'adsimdet_cam_image_mode': 0,\n",
       "      'adsimdet_cam_manufacturer': 'Simulated detector',\n",
       "      'adsimdet_cam_model': 'Basic simulator',\n",
       "      'adsimdet_cam_num_exposures': 1,\n",
       "      'adsimdet_cam_num_images': 1,\n",
       "      'adsimdet_cam_trigger_mode': 0},\n",
       "     'timestamps': {'adsimdet_cam_acquire_period': 1661889997.531498,\n",
       "      'adsimdet_cam_acquire_time': 1661889997.520722,\n",
       "      'adsimdet_cam_image_mode': 1661889997.5001307,\n",
       "      'adsimdet_cam_manufacturer': 1661889153.029876,\n",
       "      'adsimdet_cam_model': 1661889153.029901,\n",
       "      'adsimdet_cam_num_exposures': 1661889413.3754888,\n",
       "      'adsimdet_cam_num_images': 1661889997.5106463,\n",
       "      'adsimdet_cam_trigger_mode': 1661889177.3299406},\n",
       "     'data_keys': {'adsimdet_cam_acquire_period': {'source': 'PV:bdpSimExample:cam1:AcquirePeriod_RBV',\n",
       "       'dtype': 'number',\n",
       "       'shape': [],\n",
       "       'units': '',\n",
       "       'lower_ctrl_limit': 0.0,\n",
       "       'upper_ctrl_limit': 0.0,\n",
       "       'precision': 3},\n",
       "      'adsimdet_cam_acquire_time': {'source': 'PV:bdpSimExample:cam1:AcquireTime_RBV',\n",
       "       'dtype': 'number',\n",
       "       'shape': [],\n",
       "       'units': '',\n",
       "       'lower_ctrl_limit': 0.0,\n",
       "       'upper_ctrl_limit': 0.0,\n",
       "       'precision': 3},\n",
       "      'adsimdet_cam_image_mode': {'source': 'PV:bdpSimExample:cam1:ImageMode_RBV',\n",
       "       'dtype': 'integer',\n",
       "       'shape': [],\n",
       "       'units': None,\n",
       "       'lower_ctrl_limit': None,\n",
       "       'upper_ctrl_limit': None,\n",
       "       'enum_strs': ['Single', 'Multiple', 'Continuous']},\n",
       "      'adsimdet_cam_manufacturer': {'source': 'PV:bdpSimExample:cam1:Manufacturer_RBV',\n",
       "       'dtype': 'string',\n",
       "       'shape': [],\n",
       "       'units': None,\n",
       "       'lower_ctrl_limit': None,\n",
       "       'upper_ctrl_limit': None},\n",
       "      'adsimdet_cam_model': {'source': 'PV:bdpSimExample:cam1:Model_RBV',\n",
       "       'dtype': 'string',\n",
       "       'shape': [],\n",
       "       'units': None,\n",
       "       'lower_ctrl_limit': None,\n",
       "       'upper_ctrl_limit': None},\n",
       "      'adsimdet_cam_num_exposures': {'source': 'PV:bdpSimExample:cam1:NumExposures_RBV',\n",
       "       'dtype': 'integer',\n",
       "       'shape': [],\n",
       "       'units': '',\n",
       "       'lower_ctrl_limit': 0,\n",
       "       'upper_ctrl_limit': 0},\n",
       "      'adsimdet_cam_num_images': {'source': 'PV:bdpSimExample:cam1:NumImages_RBV',\n",
       "       'dtype': 'integer',\n",
       "       'shape': [],\n",
       "       'units': '',\n",
       "       'lower_ctrl_limit': 0,\n",
       "       'upper_ctrl_limit': 0},\n",
       "      'adsimdet_cam_trigger_mode': {'source': 'PV:bdpSimExample:cam1:TriggerMode_RBV',\n",
       "       'dtype': 'integer',\n",
       "       'shape': [],\n",
       "       'units': None,\n",
       "       'lower_ctrl_limit': None,\n",
       "       'upper_ctrl_limit': None,\n",
       "       'enum_strs': ['Internal', 'External']}}}},\n",
       "   'name': 'primary',\n",
       "   'hints': {'adsimdet': {'fields': []}},\n",
       "   'object_keys': {'adsimdet': ['adsimdet_image']}}],\n",
       " 'stream_name': 'primary'}"
      ]
     },
     "metadata": {},
     "execution_count": 14
    }
   ],
   "source": [
    "stream_name = \"primary\"\n",
    "r = requests_tiled(\n",
    "    server, catalog,\n",
    "    api=\"/api/v1/node/metadata\",\n",
    "    suffix=(\n",
    "        f\"/{uid}\"\n",
    "        f\"/{stream_name}\"\n",
    "    )\n",
    ")\n",
    "print(f\"{catalog=} {uid=} metadata for {stream_name=}:\")\n",
    "r['data']['attributes']['metadata']"
   ]
  },
  {
   "source": [
    "### Get the data from the data stream named primary (the canonical main data).\n",
    "\n",
    "To get the data, we need to change the type of search using `/api/v1/node/full` (so far, we have been using the default search for metadata: `/api/v1/node/search`) and specify the format of the result.  One format is `json`.  Let's pick some data from the M6 demo (with `M6-gallery` matching text) that has a very long list (1-D) of floating point numbers."
   ],
   "cell_type": "markdown",
   "metadata": {}
  },
  {
   "cell_type": "code",
   "execution_count": 15,
   "metadata": {},
   "outputs": [],
   "source": [
    "search_text = \"M6-gallery\"\n",
    "case_sensitive = True\n",
    "r = requests_tiled(\n",
    "    server, catalog, suffix=(\n",
    "        \"?page[limit]=0\"  # 0: all matching\n",
    "        f\"&filter[fulltext][condition][text]={search_text}\"\n",
    "        f\"&filter[fulltext][condition][case_sensitive]={str(case_sensitive).lower()}\"\n",
    "        \"&sort=time\"\n",
    "    )\n",
    ")"
   ]
  },
  {
   "cell_type": "code",
   "execution_count": 16,
   "metadata": {},
   "outputs": [],
   "source": [
    "uid = r[\"data\"][-1][\"attributes\"][\"metadata\"][\"start\"][\"uid\"]\n",
    "data_format = \"json\"\n",
    "stream_name = \"primary\"\n",
    "data_name = \"adpvadet_pva1_execution_time\"\n",
    "\n",
    "arr= requests_tiled(\n",
    "    server, catalog,\n",
    "    api=\"/api/v1/array/full\",\n",
    "    suffix=(\n",
    "        f\"/{uid}\"\n",
    "        f\"/{stream_name}\"\n",
    "        \"/data\"\n",
    "        f\"/{data_name}\"\n",
    "        f\"?format={data_format}\"\n",
    "    )\n",
    ")"
   ]
  },
  {
   "cell_type": "code",
   "execution_count": 17,
   "metadata": {},
   "outputs": [
    {
     "output_type": "stream",
     "name": "stdout",
     "text": [
      "len(arr)=10261 min(arr)=0.213429 max(arr)=2.024461\n"
     ]
    }
   ],
   "source": [
    "print(f\"{len(arr)=} {min(arr)=} {max(arr)=}\")"
   ]
  },
  {
   "source": [
    "## Client using `tiled` package"
   ],
   "cell_type": "markdown",
   "metadata": {}
  },
  {
   "cell_type": "code",
   "execution_count": 18,
   "metadata": {},
   "outputs": [],
   "source": [
    "from tiled.client import from_uri\n",
    "from tiled.client.cache import Cache\n",
    "import tiled.queries\n",
    "from tiled.utils import tree"
   ]
  },
  {
   "cell_type": "code",
   "execution_count": null,
   "metadata": {},
   "outputs": [],
   "source": []
  }
 ]
}