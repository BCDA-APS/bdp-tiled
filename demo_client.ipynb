{
 "metadata": {
  "language_info": {
   "codemirror_mode": {
    "name": "ipython",
    "version": 3
   },
   "file_extension": ".py",
   "mimetype": "text/x-python",
   "name": "python",
   "nbconvert_exporter": "python",
   "pygments_lexer": "ipython3",
   "version": "3.10.8-final"
  },
  "orig_nbformat": 2,
  "kernelspec": {
   "name": "python3",
   "display_name": "Python 3.10.8 64-bit",
   "metadata": {
    "interpreter": {
     "hash": "74b2908bedf7effbe5863ccf5f6dcaf7aee42857b42ad77a822704158fd125e5"
    }
   }
  }
 },
 "nbformat": 4,
 "nbformat_minor": 2,
 "cells": [
  {
   "source": [
    "# Tiled Python Client Demonstration\n",
    "\n",
    "Demonstrate a Python client accessing a tiled data server (running on `localhost`).  The server provides two databroker catalogs (`bdp2022` and `20idb_usaxs`).\n",
    "\n",
    "Show two types of Python client:\n",
    "\n",
    "- The `requests` package from the Python Standard Library.\n",
    "- The `tiled` package from the Bluesky Framework.\n",
    "\n",
    "For each type of client, show some specific queries and responses.\n",
    "\n",
    "* [x] Find all runs in a catalog between these two ISO8601 dates.\n",
    "* [x] Find run(s) which match given metadata.\n",
    "* [x] Get overall metadata from given run.\n",
    "* [x] What are the data streams in this run?\n",
    "* [x] What is the metadata for this stream?\n",
    "* [ ] Get the data from the data stream named primary (the canonical main data).\n",
    "* [ ] What about loose matches?  Maybe not now.  Might require some deeper expertise."
   ],
   "cell_type": "markdown",
   "metadata": {}
  },
  {
   "source": [
    "## Client using `requests` package"
   ],
   "cell_type": "markdown",
   "metadata": {}
  },
  {
   "source": [
    "Using the `requests` package, search the tiled server's  API using the `http://` interface by assembling a URI.  The tiled server will respond and we'll return the response as JSON.  We'll let Python handle report any Exceptions that might occur."
   ],
   "cell_type": "markdown",
   "metadata": {}
  },
  {
   "cell_type": "code",
   "execution_count": 53,
   "metadata": {},
   "outputs": [],
   "source": [
    "import requests\n",
    "\n",
    "def requests_tiled(server, catalog, api=\"/api/v1/node/search\", suffix=\"\", port=8000):\n",
    "    return requests.get(f\"http://{server}:{port}{api}/{catalog}{suffix}\").json()"
   ]
  },
  {
   "source": [
    "As a convenience, make a function that converts a string representation of the date and time in ISO-8601 format into the Linux EPOCH floating-point representation needed for tiled's API."
   ],
   "cell_type": "markdown",
   "metadata": {}
  },
  {
   "cell_type": "code",
   "execution_count": 54,
   "metadata": {},
   "outputs": [],
   "source": [
    "import datetime\n",
    "\n",
    "def isotime_to_timestamp(isotime):\n",
    "    return datetime.datetime.fromisoformat(isotime).timestamp()"
   ]
  },
  {
   "source": [
    "We'll search the BDP project's databroker catalog, known to the tiled server (running on workstation `localhost`) by the text name `bdp2022`."
   ],
   "cell_type": "markdown",
   "metadata": {}
  },
  {
   "cell_type": "code",
   "execution_count": 55,
   "metadata": {},
   "outputs": [],
   "source": [
    "server = \"localhost\"\n",
    "catalog = \"bdp2022\""
   ]
  },
  {
   "source": [
    "### Find runs within range of dates\n",
    "\n",
    "Define the ends of the time span for the search query:"
   ],
   "cell_type": "markdown",
   "metadata": {}
  },
  {
   "cell_type": "code",
   "execution_count": 56,
   "metadata": {},
   "outputs": [],
   "source": [
    "# Find all runs in a catalog between these two ISO8601 dates.\n",
    "start_time = \"2022-05-01\"\n",
    "end_time = \"2022-11-01\"\n",
    "tz = \"US/Central\""
   ]
  },
  {
   "source": [
    "Using the `requests` package, ask the tiled server for all runs in the catalog that match the time range.\n",
    "\n",
    "Here, we build up the URI suffix in parts to expose how the search query is constructed.  The response is a Python dictionary.  We won't print the entire dictionary here since it likely contains a lot of information, perhaps too much to show in full."
   ],
   "cell_type": "markdown",
   "metadata": {}
  },
  {
   "cell_type": "code",
   "execution_count": 62,
   "metadata": {},
   "outputs": [],
   "source": [
    "r = requests_tiled(\n",
    "    server, catalog, suffix=(\n",
    "        \"?page[limit]=0\"  # 0: find all matching runs\n",
    "        f\"&filter[time_range][condition][since]={isotime_to_timestamp(start_time)}\"\n",
    "        f\"&filter[time_range][condition][until]={isotime_to_timestamp(end_time)}\"\n",
    "        f\"&filter[time_range][condition][timezone]={tz}\"\n",
    "        \"&sort=time\"\n",
    "    )\n",
    ")"
   ]
  },
  {
   "source": [
    "Summarize the results (in object `r`):"
   ],
   "cell_type": "markdown",
   "metadata": {}
  },
  {
   "cell_type": "code",
   "execution_count": 58,
   "metadata": {},
   "outputs": [
    {
     "output_type": "stream",
     "name": "stdout",
     "text": [
      "Search of catalog='bdp2022' has 397 runs.\nFirst run: started='2022-05-03T08:37:21.510276' scan_id=1596 plan_name='take_image'\nLast  run: started='2022-09-08T13:54:25.178280' scan_id=1960 plan_name='push_images'\n"
     ]
    }
   ],
   "source": [
    "print(f'Search of {catalog=} has {len(r[\"data\"])} runs.')\n",
    "xref = dict(First=0, Last=-1)\n",
    "for k, v in dict(First=0, Last=-1).items():\n",
    "    md = r[\"data\"][v][\"attributes\"][\"metadata\"]\n",
    "    # md keys: start  stop  summary\n",
    "    # summary key is composed by tiled server\n",
    "    plan_name = md[\"summary\"][\"plan_name\"]\n",
    "    scan_id = md[\"summary\"][\"scan_id\"]\n",
    "    started = md[\"summary\"][\"datetime\"]\n",
    "    print(f\"{k:5s} run: {started=} {scan_id=} {plan_name=}\")"
   ]
  },
  {
   "source": [
    "### Find runs matching a given plan name\n",
    "\n",
    "Find run(s) which match some given metadata.  In this search, let's find all the runs that match a given `plan_name`.  Let's use the most recent `plan_name` from the previous results."
   ],
   "cell_type": "markdown",
   "metadata": {}
  },
  {
   "cell_type": "code",
   "execution_count": 68,
   "metadata": {},
   "outputs": [
    {
     "output_type": "stream",
     "name": "stdout",
     "text": [
      "Search for plan_name='push_images'\n"
     ]
    }
   ],
   "source": [
    "# Find run(s) which match given metadata: given plan_name\n",
    "print(f\"Search for {plan_name=}\")\n",
    "case_sensitive = True\n",
    "r = requests_tiled(\n",
    "    server, catalog, suffix=(\n",
    "        \"?page[limit]=0\"  # 0: all matching\n",
    "        \"&filter[eq][condition][key]=plan_name\"\n",
    "        f'&filter[eq][condition][value]=\"{plan_name}\"'\n",
    "        \"&sort=time\"\n",
    "    )\n",
    ")"
   ]
  },
  {
   "cell_type": "code",
   "execution_count": 61,
   "metadata": {},
   "outputs": [
    {
     "output_type": "stream",
     "name": "stdout",
     "text": [
      "Search of catalog='bdp2022' has 125 runs.\nFirst run: started='2022-07-15T23:14:54.974411' scan_id=1 plan_name='push_images'\nLast  run: started='2022-09-08T13:54:25.178280' scan_id=1960 plan_name='push_images'\n"
     ]
    }
   ],
   "source": [
    "print(f'Search of {catalog=} has {len(r[\"data\"])} runs.')\n",
    "xref = dict(First=0, Last=-1)\n",
    "for k, v in dict(First=0, Last=-1).items():\n",
    "    md = r[\"data\"][v][\"attributes\"][\"metadata\"]\n",
    "    # md keys: start  stop  summary\n",
    "    # summary key is composed by tiled server\n",
    "    plan_name = md[\"summary\"][\"plan_name\"]\n",
    "    scan_id = md[\"summary\"][\"scan_id\"]\n",
    "    started = md[\"summary\"][\"datetime\"]\n",
    "    print(f\"{k:5s} run: {started=} {scan_id=} {plan_name=}\")"
   ]
  },
  {
   "source": [
    "### Show a run's metadata\n",
    "\n",
    "Let's show the various metadata available from a Bluesky *run*.  We'll use the last run from the previous search."
   ],
   "cell_type": "markdown",
   "metadata": {}
  },
  {
   "cell_type": "code",
   "execution_count": 64,
   "metadata": {},
   "outputs": [],
   "source": [
    "run = r[\"data\"][-1]  # most recent run from previous results"
   ]
  },
  {
   "source": [
    "The `run` object is a dictionary.  The interesting keys are:\n",
    "\n",
    "key | content\n",
    ":--- | :---\n",
    "`id` | `uid` universal identifier of this `run` (used by the database)\n",
    "`attributes` | contents of this `run`\n",
    "\n",
    "The `attributes` contents are a dictionary with these interesting keys (there are other keys, as well):\n",
    "\n",
    "key | content\n",
    ":--- | :---\n",
    "`metadata` | metadata dictionary of this `run`\n",
    "\n",
    "The `metadata` dictionary has these keys:\n",
    "\n",
    "key | content\n",
    ":--- | :---\n",
    "`start` | Metadata created as the run started (includes user-supplied, scan-specific, facility-specific, and bluesky metadata).  The `start` dictionary keys will vary between runs and catalogs.  Only a few are expected, including: `uid`, `time`, & `versions`.\n",
    "`stop` | Metadata about how the run ended (exit status and reason if problem, stream names, end time stamp)\n",
    "`summary` | tiled server provides this additional high-level summary with ISO8601 start date and run duration\n",
    "\n",
    "Note: the run's data streams are obtained by a different query, using the run's `uid`.  Keep track of the `uid` for that reason.\n",
    "\n",
    "To show the structure of this dictionary, we just access Python to show the object's value."
   ],
   "cell_type": "markdown",
   "metadata": {}
  },
  {
   "cell_type": "code",
   "execution_count": 67,
   "metadata": {},
   "outputs": [
    {
     "output_type": "execute_result",
     "data": {
      "text/plain": [
       "{'start': {'uid': 'ae762f9c-4933-4aa4-a720-147f4aaab6fd',\n",
       "  'time': 1662663265.17828,\n",
       "  'versions': {'apstools': '1.6.2',\n",
       "   'bluesky': '1.8.3',\n",
       "   'bluesky_queueserver': '0.0.15',\n",
       "   'databroker': '1.2.5',\n",
       "   'epics': '3.5.0',\n",
       "   'h5py': '3.7.0',\n",
       "   'matplotlib': '3.5.2',\n",
       "   'numpy': '1.20.3',\n",
       "   'ophyd': '1.6.4',\n",
       "   'pyRestTable': '2020.0.3',\n",
       "   'spec2nexus': '2021.2.1'},\n",
       "  'databroker_catalog': 'bdp2022',\n",
       "  'login_id': 'bdp@terrier.xray.aps.anl.gov',\n",
       "  'beamline_id': 'BDP',\n",
       "  'instrument_name': 'APS-U Beamline Data Pipelines project in 2022',\n",
       "  'proposal_id': 'bdp2022',\n",
       "  'milestone': 'BDP M6 demo',\n",
       "  'pid': 13229,\n",
       "  'scan_id': 1960,\n",
       "  'plan_type': 'generator',\n",
       "  'plan_name': 'push_images',\n",
       "  'purpose': 'push TIFF files to PVaccess PV',\n",
       "  'num_images': 10000,\n",
       "  'frame_rate': 200.0,\n",
       "  'run_time': 60.0,\n",
       "  'datetime': '2022-09-08 13:54:24.802956',\n",
       "  'client': 'DM/workflows/example-05/qserver_client.py',\n",
       "  'session': 'M6 demo'},\n",
       " 'stop': {'run_start': 'ae762f9c-4933-4aa4-a720-147f4aaab6fd',\n",
       "  'time': 1662663325.2562923,\n",
       "  'uid': 'd0359487-8923-412a-96ab-c6c8db6800f3',\n",
       "  'exit_status': 'success',\n",
       "  'reason': '',\n",
       "  'num_events': {'primary': 10261}},\n",
       " 'summary': {'uid': 'ae762f9c-4933-4aa4-a720-147f4aaab6fd',\n",
       "  'scan_id': 1960,\n",
       "  'timestamp': 1662663265.17828,\n",
       "  'datetime': '2022-09-08T13:54:25.178280',\n",
       "  'plan_name': 'push_images',\n",
       "  'stream_names': ['primary'],\n",
       "  'duration': 60.078012228012085}}"
      ]
     },
     "metadata": {},
     "execution_count": 67
    }
   ],
   "source": [
    "run[\"attributes\"][\"metadata\"]"
   ]
  },
  {
   "source": [
    "### Search for runs containing given text.\n",
    "\n",
    "It is possible to search a catalog for runs containing given text.  Here is one example searching for `M9` (upper or lower case):"
   ],
   "cell_type": "markdown",
   "metadata": {}
  },
  {
   "cell_type": "code",
   "execution_count": 85,
   "metadata": {},
   "outputs": [],
   "source": [
    "search_text = \"M9\"\n",
    "case_sensitive = True\n",
    "r = requests_tiled(\n",
    "    server, catalog, suffix=(\n",
    "        \"?page[limit]=0\"  # 0: all matching\n",
    "        f\"&filter[fulltext][condition][text]={search_text}\"\n",
    "        f\"&filter[fulltext][condition][case_sensitive]={str(case_sensitive).lower()}\"\n",
    "        \"&sort=time\"\n",
    "    )\n",
    ")"
   ]
  },
  {
   "cell_type": "code",
   "execution_count": 86,
   "metadata": {},
   "outputs": [
    {
     "output_type": "stream",
     "name": "stdout",
     "text": [
      "Search of catalog='bdp2022' has 75 runs which contain \"M9\".\nFirst run: started='2022-11-11T01:34:27.938719' scan_id=1961 plan_name='m9_push_images'\nLast  run: started='2022-11-23T11:17:32.495794' scan_id=2035 plan_name='m9_push_images'\n"
     ]
    }
   ],
   "source": [
    "print(f'Search of {catalog=} has {len(r[\"data\"])} runs which contain \"{search_text}\".')\n",
    "xref = dict(First=0, Last=-1)\n",
    "for k, v in dict(First=0, Last=-1).items():\n",
    "    md = r[\"data\"][v][\"attributes\"][\"metadata\"]\n",
    "    # md keys: start  stop  summary\n",
    "    # summary key is composed by tiled server\n",
    "    plan_name = md[\"summary\"][\"plan_name\"]\n",
    "    scan_id = md[\"summary\"][\"scan_id\"]\n",
    "    started = md[\"summary\"][\"datetime\"]\n",
    "    print(f\"{k:5s} run: {started=} {scan_id=} {plan_name=}\")"
   ]
  },
  {
   "source": [
    "### What data streams are available with this run?\n",
    "\n",
    "Use the last run from the previous search.  The stream names are in the `stop` metadata, where the number of data events is shown for each stream."
   ],
   "cell_type": "markdown",
   "metadata": {}
  },
  {
   "cell_type": "code",
   "execution_count": 89,
   "metadata": {},
   "outputs": [
    {
     "output_type": "stream",
     "name": "stdout",
     "text": [
      "Run uid=a1233634-1259-438f-b9f0-f77c26f48f54 has streams=['primary']\n"
     ]
    }
   ],
   "source": [
    "stop_md = r[\"data\"][-1][\"attributes\"][\"metadata\"][\"stop\"]\n",
    "streams = list(stop_md[\"num_events\"].keys())\n",
    "uid = stop_md[\"run_start\"]\n",
    "print(f'Run {uid=} has {streams=}')"
   ]
  },
  {
   "source": [
    "### What is the metadata for the `primary` stream of this run?"
   ],
   "cell_type": "markdown",
   "metadata": {}
  },
  {
   "cell_type": "code",
   "execution_count": 109,
   "metadata": {},
   "outputs": [],
   "source": [
    "stream_name = streams[0]\n",
    "r = requests_tiled(\n",
    "    server, catalog,\n",
    "    api=\"/api/v1/node/metadata\",\n",
    "    suffix=(\n",
    "        f\"/{uid}\"\n",
    "        f\"/{stream_name}\"\n",
    "    )\n",
    ")"
   ]
  },
  {
   "cell_type": "code",
   "execution_count": 119,
   "metadata": {},
   "outputs": [
    {
     "output_type": "stream",
     "name": "stdout",
     "text": [
      "Run uid='a1233634-1259-438f-b9f0-f77c26f48f54', stream_name='primary' has len(r[\"data\"])=4 data descriptor attributes\n9 ancestors\n16 structure_family\n5 specs\n8 metadata\n9 structure\n7 sorting\n10 references\n"
     ]
    },
    {
     "output_type": "error",
     "ename": "RuntimeError",
     "evalue": "W-I-P at this point.",
     "traceback": [
      "\u001b[0;31m---------------------------------------------------------------------------\u001b[0m",
      "\u001b[0;31mRuntimeError\u001b[0m                              Traceback (most recent call last)",
      "Cell \u001b[0;32mIn[119], line 6\u001b[0m\n\u001b[1;32m      3\u001b[0m     \u001b[38;5;28mprint\u001b[39m(\u001b[38;5;28mlen\u001b[39m(descriptor), descriptor)\n\u001b[1;32m      4\u001b[0m     \u001b[38;5;66;03m# md = descriptor[\"attributes\"][\"metadata\"]\u001b[39;00m\n\u001b[1;32m      5\u001b[0m     \u001b[38;5;66;03m# print(f\"descriptor {i} has {len(md)} metadata keys.\")\u001b[39;00m\n\u001b[0;32m----> 6\u001b[0m \u001b[38;5;28;01mraise\u001b[39;00m \u001b[38;5;167;01mRuntimeError\u001b[39;00m(\u001b[38;5;124m\"\u001b[39m\u001b[38;5;124mW-I-P at this point.\u001b[39m\u001b[38;5;124m\"\u001b[39m)\n",
      "\u001b[0;31mRuntimeError\u001b[0m: W-I-P at this point."
     ]
    }
   ],
   "source": [
    "print(f'Run {uid=}, {stream_name=} has {len(r[\"data\"])=} data descriptor attributes')\n",
    "for i, descriptor in enumerate(r[\"data\"][\"attributes\"]):\n",
    "    print(len(descriptor), descriptor)\n",
    "    # md = descriptor[\"attributes\"][\"metadata\"]\n",
    "    # print(f\"descriptor {i} has {len(md)} metadata keys.\")\n",
    "raise RuntimeError(\"W-I-P at this point.\")"
   ]
  },
  {
   "source": [
    "Show one of the non-trivial keys."
   ],
   "cell_type": "markdown",
   "metadata": {}
  },
  {
   "cell_type": "code",
   "execution_count": 104,
   "metadata": {},
   "outputs": [
    {
     "output_type": "execute_result",
     "data": {
      "text/plain": [
       "{'descriptors': [{'run_start': 'a1233634-1259-438f-b9f0-f77c26f48f54',\n",
       "   'time': 1669223872.8681245,\n",
       "   'data_keys': {},\n",
       "   'uid': '43eb9fb2-7900-47aa-96a6-face7e7f5fca',\n",
       "   'name': 'primary',\n",
       "   'configuration': {'m9_flyer': {'data': {'m9_flyer_frame_rate': 1000.0,\n",
       "      'm9_flyer_num_images': 12000,\n",
       "      'm9_flyer_position_chunk_size': 100},\n",
       "     'timestamps': {'m9_flyer_frame_rate': 1669223852.4870157,\n",
       "      'm9_flyer_num_images': 1669223852.4887526,\n",
       "      'm9_flyer_position_chunk_size': 1669223852.4916937},\n",
       "     'data_keys': {'m9_flyer_frame_rate': {'source': 'PV:bdpgp:gp:float3',\n",
       "       'dtype': 'number',\n",
       "       'shape': [],\n",
       "       'units': '',\n",
       "       'lower_ctrl_limit': 0.0,\n",
       "       'upper_ctrl_limit': 0.0,\n",
       "       'precision': 4},\n",
       "      'm9_flyer_num_images': {'source': 'PV:bdpgp:gp:int3',\n",
       "       'dtype': 'integer',\n",
       "       'shape': [],\n",
       "       'units': '',\n",
       "       'lower_ctrl_limit': 0,\n",
       "       'upper_ctrl_limit': 0},\n",
       "      'm9_flyer_position_chunk_size': {'source': 'PV:bdpgp:gp:int13',\n",
       "       'dtype': 'integer',\n",
       "       'shape': [],\n",
       "       'units': '',\n",
       "       'lower_ctrl_limit': 0,\n",
       "       'upper_ctrl_limit': 0}}}},\n",
       "   'hints': {'m9_flyer': {'fields': []}},\n",
       "   'object_keys': {'m9_flyer': []}}],\n",
       " 'stream_name': 'primary',\n",
       " 'attrs': {'stream_name': 'primary'}}"
      ]
     },
     "metadata": {},
     "execution_count": 104
    }
   ],
   "source": [
    "r[\"data\"][0][\"attributes\"][\"metadata\"]"
   ]
  },
  {
   "source": [
    "### Get the data from the data stream named primary (the canonical main data).\n",
    "\n",
    "To get the data, we need to change the type of search using `/api/v1/node/full` (so far, we have been using the default search for metadata: `/api/v1/node/search`) and specify the format of the result.  One format is `json`."
   ],
   "cell_type": "markdown",
   "metadata": {}
  },
  {
   "cell_type": "code",
   "execution_count": 108,
   "metadata": {},
   "outputs": [],
   "source": [
    "data_format = \"json\"\n",
    "r = requests_tiled(\n",
    "    server, catalog, suffix=(\n",
    "        f\"/{uid}\"\n",
    "        f\"/{stream_name}\"\n",
    "        \"/data\"\n",
    "        # f\"%format={data_format}\"\n",
    "    )\n",
    ")"
   ]
  },
  {
   "cell_type": "code",
   "execution_count": null,
   "metadata": {},
   "outputs": [],
   "source": [
    "for i, data in enumerate(r[\"data\"]):\n",
    "    print()"
   ]
  },
  {
   "source": [
    "tba: tiled server shows this exception (for the area detector image):\n",
    "\n",
    "```text\n",
    "event_model.UndefinedAssetSpecification: \"Resource document with uid c89a0a1b-7195-46fd-8d27-64f7d94e3cf7 refers to spec 'AD_HDF5' which is not defined in the Filler's handler registry.\"\n",
    "```"
   ],
   "cell_type": "markdown",
   "metadata": {}
  },
  {
   "source": [
    "## Client using `tiled` package"
   ],
   "cell_type": "markdown",
   "metadata": {}
  },
  {
   "cell_type": "code",
   "execution_count": 4,
   "metadata": {},
   "outputs": [],
   "source": [
    "from tiled.client import from_uri\n",
    "from tiled.client.cache import Cache\n",
    "import tiled.queries\n",
    "from tiled.utils import tree"
   ]
  },
  {
   "cell_type": "code",
   "execution_count": null,
   "metadata": {},
   "outputs": [],
   "source": []
  }
 ]
}